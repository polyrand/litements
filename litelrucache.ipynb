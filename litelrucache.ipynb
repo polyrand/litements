{
 "cells": [
  {
   "cell_type": "markdown",
   "id": "incomplete-detection",
   "metadata": {},
   "source": [
    "Reimplementation of Python functools.lru_cache"
   ]
  },
  {
   "cell_type": "code",
   "execution_count": 1,
   "id": "trained-point",
   "metadata": {},
   "outputs": [],
   "source": [
    "# export\n",
    "from collections.abc import MutableMapping\n",
    "import json\n",
    "import pprint\n",
    "from functools import wraps, partial\n",
    "from typing import Callable, Tuple, Dict, Any\n",
    "import sqlite3\n",
    "from operator import itemgetter"
   ]
  },
  {
   "cell_type": "code",
   "execution_count": 2,
   "id": "brazilian-license",
   "metadata": {},
   "outputs": [],
   "source": [
    "# import orjson as json"
   ]
  },
  {
   "cell_type": "code",
   "execution_count": 29,
   "id": "anticipated-terminal",
   "metadata": {},
   "outputs": [],
   "source": [
    "# export\n",
    "class SQLCache(MutableMapping):\n",
    "    def __init__(\n",
    "        self,\n",
    "        dbname,\n",
    "        maxsize: int = None,\n",
    "        check_same_thread=False,\n",
    "        fast=True,\n",
    "        encoder: Callable = lambda x: json.dumps(x),\n",
    "        decoder: Callable = lambda x: json.loads(x),\n",
    "        **kwargs,\n",
    "    ):\n",
    "        self.dbname = dbname\n",
    "        self.conn = sqlite3.connect(\n",
    "            self.dbname, check_same_thread=check_same_thread, **kwargs\n",
    "        )\n",
    "        self.encoder = encoder\n",
    "        self.decoder = decoder\n",
    "        self.maxsize = maxsize\n",
    "\n",
    "        with self.conn as c:\n",
    "            c.execute(\n",
    "                \"CREATE TABLE IF NOT EXISTS Cache (key text NOT NULL PRIMARY KEY, value text)\"\n",
    "            )\n",
    "\n",
    "            if fast:\n",
    "                c.execute(\"PRAGMA journal_mode = 'WAL';\")\n",
    "                c.execute(\"PRAGMA temp_store = 2;\")\n",
    "                c.execute(\"PRAGMA synchronous = 1;\")\n",
    "                c.execute(f\"PRAGMA cache_size = {-1 * 64_000};\")\n",
    "\n",
    "            if maxsize is not None:\n",
    "                c.execute(\n",
    "                    f\"\"\"\n",
    "CREATE TRIGGER IF NOT EXISTS maxsize_control \n",
    "   BEFORE INSERT\n",
    "   ON Cache\n",
    "   WHEN (SELECT COUNT(*) FROM Cache) >= {self.maxsize}\n",
    "BEGIN\n",
    "    DELETE FROM Cache WHERE rowid = (SELECT min(rowid) FROM Cache);\n",
    "END;\"\"\"\n",
    "                )\n",
    "\n",
    "    def __setitem__(self, key, value):\n",
    "        with self.conn as c:\n",
    "            c.execute(\n",
    "                \"INSERT OR REPLACE INTO  Cache VALUES (?, ?)\",\n",
    "                (key, self.encoder(value)),\n",
    "            )\n",
    "\n",
    "    def __getitem__(self, key):\n",
    "        c = self.conn.execute(\"SELECT value FROM Cache WHERE Key=?\", (key,))\n",
    "        row = c.fetchone()\n",
    "        if row is None:\n",
    "            raise KeyError(key)\n",
    "        return self.decoder(row[0])\n",
    "\n",
    "    def __delitem__(self, key):\n",
    "        if key not in self:\n",
    "            raise KeyError(key)\n",
    "        with self.conn as c:\n",
    "            c.execute(\"DELETE FROM Cache WHERE key=?\", (key,))\n",
    "\n",
    "    def __len__(self):\n",
    "        return next(self.conn.execute(\"SELECT COUNT(*) FROM Cache\"))[0]\n",
    "\n",
    "    def __iter__(self):\n",
    "        c = self.conn.execute(\"SELECT key FROM Cache\")\n",
    "        return map(itemgetter(0), c.fetchall())\n",
    "\n",
    "    def __repr__(self):\n",
    "        return f\"{type(self).__name__}(dbname={self.dbname!r}, items={pprint.pformat(list(self.items()))})\"\n",
    "\n",
    "    def vacuum(self):\n",
    "        self.conn.execute(\"VACUUM;\")\n",
    "\n",
    "    def clear(self):\n",
    "        self.conn.execute(\"DELETE FROM Cache\")\n",
    "\n",
    "    def close(self):\n",
    "        self.conn.close()"
   ]
  },
  {
   "cell_type": "code",
   "execution_count": 30,
   "id": "infectious-bosnia",
   "metadata": {},
   "outputs": [],
   "source": [
    "a = (1, \"asdas\", 3)\n",
    "kw = {\"bb\": 123, \"aa\": 34, \"xs\": \"bm\"}"
   ]
  },
  {
   "cell_type": "code",
   "execution_count": 31,
   "id": "agricultural-centre",
   "metadata": {},
   "outputs": [
    {
     "data": {
      "text/plain": [
       "[('aa', 34), ('bb', 123), ('xs', 'bm')]"
      ]
     },
     "execution_count": 31,
     "metadata": {},
     "output_type": "execute_result"
    }
   ],
   "source": [
    "sorted(kw.items())"
   ]
  },
  {
   "cell_type": "code",
   "execution_count": 32,
   "id": "prepared-idaho",
   "metadata": {},
   "outputs": [
    {
     "data": {
      "text/plain": [
       "\"((1, 'asdas', 3), {'bb': 123, 'aa': 34, 'xs': 'bm'})\""
      ]
     },
     "execution_count": 32,
     "metadata": {},
     "output_type": "execute_result"
    }
   ],
   "source": [
    "str((a,kw))"
   ]
  },
  {
   "cell_type": "markdown",
   "id": "excessive-doctrine",
   "metadata": {},
   "source": [
    "Adapted from the Python source code"
   ]
  },
  {
   "cell_type": "code",
   "execution_count": 33,
   "id": "confidential-kitchen",
   "metadata": {},
   "outputs": [],
   "source": [
    "def make_key(\n",
    "    args,\n",
    "    kwargs,\n",
    "    kwd_mark=(\"::\",),\n",
    "    fasttypes={int, str},\n",
    "):\n",
    "    \"\"\"Make a cache key from optionally typed positional and keyword arguments\n",
    "\n",
    "    The key is constructed in a way that is flat as possible rather than\n",
    "    as a nested structure that would take more memory.\n",
    "\n",
    "    If there is only a single argument and its data type is known to cache\n",
    "    its hash value, then that argument is returned without a wrapper.  This\n",
    "    saves space and improves lookup speed.\n",
    "\n",
    "    \"\"\"\n",
    "    # All of code below relies on kwds preserving the order input by the user.\n",
    "    # Formerly, we sorted() the kwds before looping.  The new way is *much*\n",
    "    # faster; however, it means that f(x=1, y=2) will now be treated as a\n",
    "    # distinct call from f(y=2, x=1) which will be cached separately.\n",
    "    key = args\n",
    "    if kwargs:\n",
    "        key += kwd_mark\n",
    "        for item in kwargs.items():\n",
    "            key += item\n",
    "    return key"
   ]
  },
  {
   "cell_type": "markdown",
   "id": "announced-toddler",
   "metadata": {},
   "source": [
    "Without kwargs"
   ]
  },
  {
   "cell_type": "code",
   "execution_count": 34,
   "id": "dental-wisdom",
   "metadata": {},
   "outputs": [
    {
     "data": {
      "text/plain": [
       "(1,)"
      ]
     },
     "execution_count": 34,
     "metadata": {},
     "output_type": "execute_result"
    }
   ],
   "source": [
    "make_key((1,), None)"
   ]
  },
  {
   "cell_type": "markdown",
   "id": "covered-method",
   "metadata": {},
   "source": [
    "With kwargs"
   ]
  },
  {
   "cell_type": "code",
   "execution_count": 35,
   "id": "joined-creature",
   "metadata": {},
   "outputs": [
    {
     "data": {
      "text/plain": [
       "(1, 2, 3, '::', 'a', 12, 'b', 'mm')"
      ]
     },
     "execution_count": 35,
     "metadata": {},
     "output_type": "execute_result"
    }
   ],
   "source": [
    "make_key((1,2,3), {\"a\": 12, \"b\": \"mm\"})"
   ]
  },
  {
   "cell_type": "markdown",
   "id": "pursuant-liability",
   "metadata": {},
   "source": [
    "I can't use `cache_key = str((func.__name__, args + tuple(kwargs.values())))` because if we call the function once with the correct `kwargs` then we could call it with an incorrect `kwarg` name and it would still return a value."
   ]
  },
  {
   "cell_type": "code",
   "execution_count": 36,
   "id": "thousand-parent",
   "metadata": {},
   "outputs": [],
   "source": [
    "def lru_cache(func: Callable = None, maxsize: int = None) -> Callable:\n",
    "\n",
    "    # print(func)\n",
    "    # print(maxsize)\n",
    "\n",
    "    cache = SQLCache(\":memory:\", maxsize=maxsize)\n",
    "\n",
    "    if func is None:\n",
    "        return partial(lru_cache, maxsize=maxsize)\n",
    "\n",
    "    @wraps(func)\n",
    "    def wrapper(*args: Any, **kwargs: Any) -> Any:\n",
    "\n",
    "        # print(f\"Len: {len(cache)}\")\n",
    "\n",
    "        cache_key = str((func.__name__,) + make_key(args, kwargs))\n",
    "\n",
    "        # print(f\"Cache key: {cache_key}\")\n",
    "\n",
    "        if cache_key in cache:\n",
    "            # print(\"Hit!\")\n",
    "            return cache[cache_key]\n",
    "\n",
    "        result = func(*args, **kwargs)\n",
    "\n",
    "        cache[cache_key] = result\n",
    "\n",
    "        return result\n",
    "\n",
    "    wrapper.cache_size = lambda: len(cache)\n",
    "    wrapper.cache_clear = lambda: cache.clear()\n",
    "    wrapper.cache = cache\n",
    "\n",
    "    return wrapper"
   ]
  },
  {
   "cell_type": "code",
   "execution_count": 37,
   "id": "fatal-registration",
   "metadata": {},
   "outputs": [],
   "source": [
    "@lru_cache(maxsize=20)\n",
    "def add(a, b, c=None):\n",
    "    \n",
    "    if c is None:\n",
    "        c = 0\n",
    "    \n",
    "    return a + b + c"
   ]
  },
  {
   "cell_type": "code",
   "execution_count": 38,
   "id": "alike-burst",
   "metadata": {},
   "outputs": [],
   "source": [
    "add(1,2,3)\n",
    "\n",
    "for i in range(19):\n",
    "    add(1, i, c=i)\n",
    "\n",
    "assert add.cache_size() == 20\n",
    "\n",
    "add(200, 150, 100)\n",
    "\n",
    "# maxsize works\n",
    "\n",
    "assert add.cache_size() == 20"
   ]
  },
  {
   "cell_type": "code",
   "execution_count": 39,
   "id": "vietnamese-lodging",
   "metadata": {},
   "outputs": [],
   "source": [
    "# cache clearing works\n",
    "\n",
    "add.cache_clear()\n",
    "\n",
    "assert add.cache_size() == 0"
   ]
  },
  {
   "cell_type": "code",
   "execution_count": 40,
   "id": "applied-ticket",
   "metadata": {},
   "outputs": [
    {
     "name": "stdout",
     "output_type": "stream",
     "text": [
      "pass\n"
     ]
    }
   ],
   "source": [
    "# incorrect kwars are not cached\n",
    "\n",
    "try:\n",
    "    add(1, b=24, x=4)\n",
    "except TypeError:\n",
    "    print(\"pass\")"
   ]
  },
  {
   "cell_type": "code",
   "execution_count": 41,
   "id": "numerical-trade",
   "metadata": {},
   "outputs": [],
   "source": [
    "@lru_cache\n",
    "def add(a, b, c=None):\n",
    "    \n",
    "    if c is None:\n",
    "        c = 0\n",
    "    \n",
    "    return a + b + c"
   ]
  },
  {
   "cell_type": "code",
   "execution_count": 42,
   "id": "trained-person",
   "metadata": {},
   "outputs": [],
   "source": [
    "add(1,2,3)\n",
    "\n",
    "for i in range(200):\n",
    "    add(1, i, c=i)\n",
    "\n",
    "assert add.cache_size() == 201\n",
    "\n",
    "add(200, 150, 100)\n",
    "\n",
    "# maxsize works\n",
    "\n",
    "assert add.cache_size() == 202"
   ]
  },
  {
   "cell_type": "code",
   "execution_count": 43,
   "id": "based-disease",
   "metadata": {},
   "outputs": [
    {
     "data": {
      "text/plain": [
       "6"
      ]
     },
     "execution_count": 43,
     "metadata": {},
     "output_type": "execute_result"
    }
   ],
   "source": [
    "add(1,2,3)"
   ]
  },
  {
   "cell_type": "code",
   "execution_count": 24,
   "id": "equivalent-cruise",
   "metadata": {},
   "outputs": [],
   "source": [
    "# cache clearing works\n",
    "\n",
    "add.cache_clear()\n",
    "\n",
    "assert add.cache_size() == 0"
   ]
  },
  {
   "cell_type": "markdown",
   "id": "comfortable-companion",
   "metadata": {},
   "source": [
    "**Benchmarks**"
   ]
  },
  {
   "cell_type": "code",
   "execution_count": 19,
   "id": "spoken-respect",
   "metadata": {},
   "outputs": [],
   "source": [
    "from functools import lru_cache as pycache"
   ]
  },
  {
   "cell_type": "code",
   "execution_count": 20,
   "id": "integrated-amsterdam",
   "metadata": {},
   "outputs": [],
   "source": [
    "@lru_cache(maxsize=None)\n",
    "def add1(a, b, c=None):\n",
    "\n",
    "    if c is None:\n",
    "        c = 0\n",
    "\n",
    "    return a + b + c\n",
    "\n",
    "\n",
    "@pycache(maxsize=None)\n",
    "def add2(a, b, c=None):\n",
    "\n",
    "    if c is None:\n",
    "        c = 0\n",
    "\n",
    "    return a + b + c"
   ]
  },
  {
   "cell_type": "code",
   "execution_count": 21,
   "id": "dried-knight",
   "metadata": {},
   "outputs": [
    {
     "name": "stdout",
     "output_type": "stream",
     "text": [
      "2.6 ms ± 92.7 µs per loop (mean ± std. dev. of 7 runs, 100 loops each)\n"
     ]
    }
   ],
   "source": [
    "%%timeit\n",
    "\n",
    "for i in range(200):\n",
    "    add1(1, i, c=i)"
   ]
  },
  {
   "cell_type": "code",
   "execution_count": 22,
   "id": "dutch-muscle",
   "metadata": {},
   "outputs": [
    {
     "name": "stdout",
     "output_type": "stream",
     "text": [
      "55 µs ± 5.45 µs per loop (mean ± std. dev. of 7 runs, 10000 loops each)\n"
     ]
    }
   ],
   "source": [
    "%%timeit\n",
    "\n",
    "for i in range(200):\n",
    "    add2(1, i, c=i)"
   ]
  },
  {
   "cell_type": "code",
   "execution_count": 26,
   "id": "sized-fleece",
   "metadata": {},
   "outputs": [],
   "source": [
    "@lru_cache(maxsize=1000)\n",
    "def add1(a, b, c=None):\n",
    "\n",
    "    if c is None:\n",
    "        c = 0\n",
    "\n",
    "    return a + b + c\n",
    "\n",
    "\n",
    "@pycache(maxsize=1000)\n",
    "def add2(a, b, c=None):\n",
    "\n",
    "    if c is None:\n",
    "        c = 0\n",
    "\n",
    "    return a + b + c"
   ]
  },
  {
   "cell_type": "code",
   "execution_count": 27,
   "id": "heard-family",
   "metadata": {},
   "outputs": [
    {
     "name": "stdout",
     "output_type": "stream",
     "text": [
      "58.6 ms ± 479 µs per loop (mean ± std. dev. of 7 runs, 10 loops each)\n"
     ]
    }
   ],
   "source": [
    "%%timeit\n",
    "\n",
    "for i in range(2000):\n",
    "    add1(1, i, c=i)"
   ]
  },
  {
   "cell_type": "code",
   "execution_count": 28,
   "id": "handed-portrait",
   "metadata": {},
   "outputs": [
    {
     "name": "stdout",
     "output_type": "stream",
     "text": [
      "1.17 ms ± 86.9 µs per loop (mean ± std. dev. of 7 runs, 1000 loops each)\n"
     ]
    }
   ],
   "source": [
    "%%timeit\n",
    "\n",
    "for i in range(2000):\n",
    "    add2(1, i, c=i)"
   ]
  },
  {
   "cell_type": "markdown",
   "id": "published-protocol",
   "metadata": {},
   "source": [
    "From the Python source code"
   ]
  },
  {
   "cell_type": "code",
   "execution_count": 306,
   "id": "primary-acrobat",
   "metadata": {},
   "outputs": [],
   "source": [
    "class _HashedSeq(list):\n",
    "    \"\"\"This class guarantees that hash() will be called no more than once\n",
    "    per element.  This is important because the lru_cache() will hash\n",
    "    the key multiple times on a cache miss.\n",
    "\n",
    "    \"\"\"\n",
    "\n",
    "    __slots__ = \"hashvalue\"\n",
    "\n",
    "    def __init__(self, tup, hash=hash):\n",
    "        self[:] = tup\n",
    "        self.hashvalue = hash(tup)\n",
    "\n",
    "    def __hash__(self):\n",
    "        return self.hashvalue\n",
    "\n",
    "\n",
    "def _make_key(\n",
    "    args,\n",
    "    kwds,\n",
    "    typed,\n",
    "    kwd_mark=(object(),),\n",
    "    fasttypes={int, str},\n",
    "    tuple=tuple,\n",
    "    type=type,\n",
    "    len=len,\n",
    "):\n",
    "    \"\"\"Make a cache key from optionally typed positional and keyword arguments\n",
    "\n",
    "    The key is constructed in a way that is flat as possible rather than\n",
    "    as a nested structure that would take more memory.\n",
    "\n",
    "    If there is only a single argument and its data type is known to cache\n",
    "    its hash value, then that argument is returned without a wrapper.  This\n",
    "    saves space and improves lookup speed.\n",
    "\n",
    "    \"\"\"\n",
    "    # All of code below relies on kwds preserving the order input by the user.\n",
    "    # Formerly, we sorted() the kwds before looping.  The new way is *much*\n",
    "    # faster; however, it means that f(x=1, y=2) will now be treated as a\n",
    "    # distinct call from f(y=2, x=1) which will be cached separately.\n",
    "    key = args\n",
    "    if kwds:\n",
    "        key += kwd_mark\n",
    "        for item in kwds.items():\n",
    "            key += item\n",
    "    if typed:\n",
    "        key += tuple(type(v) for v in args)\n",
    "        if kwds:\n",
    "            key += tuple(type(v) for v in kwds.values())\n",
    "    elif len(key) == 1 and type(key[0]) in fasttypes:\n",
    "        return key[0]\n",
    "    return _HashedSeq(key)"
   ]
  },
  {
   "cell_type": "code",
   "execution_count": null,
   "id": "automotive-bubble",
   "metadata": {},
   "outputs": [],
   "source": []
  }
 ],
 "metadata": {
  "kernelspec": {
   "display_name": "jqlite",
   "language": "python",
   "name": "jqlite"
  },
  "language_info": {
   "codemirror_mode": {
    "name": "ipython",
    "version": 3
   },
   "file_extension": ".py",
   "mimetype": "text/x-python",
   "name": "python",
   "nbconvert_exporter": "python",
   "pygments_lexer": "ipython3",
   "version": "3.7.7"
  }
 },
 "nbformat": 4,
 "nbformat_minor": 5
}

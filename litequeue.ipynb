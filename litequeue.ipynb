{
 "cells": [
  {
   "cell_type": "code",
   "execution_count": 2,
   "id": "environmental-moment",
   "metadata": {},
   "outputs": [],
   "source": [
    "# export\n",
    "from collections.abc import MutableMapping\n",
    "import json\n",
    "import pprint\n",
    "from typing import Callable, Tuple, Dict, Optional\n",
    "import sqlite3"
   ]
  },
  {
   "cell_type": "code",
   "execution_count": 3,
   "id": "isolated-fireplace",
   "metadata": {},
   "outputs": [],
   "source": [
    "TEST_1 = \"key_test_1\"\n",
    "TEST_2 = \"key_test_2\""
   ]
  },
  {
   "cell_type": "code",
   "execution_count": 36,
   "id": "dense-suggestion",
   "metadata": {},
   "outputs": [],
   "source": [
    "# export\n",
    "class SQLQueue:\n",
    "    def __init__(\n",
    "        self,\n",
    "        dbname = \":memory:\",\n",
    "        maxsize: Optional[int] = None,\n",
    "        check_same_thread=False,\n",
    "        fast=True,\n",
    "        **kwargs,\n",
    "    ):\n",
    "        self.dbname = dbname\n",
    "        self.conn = sqlite3.connect(\n",
    "            self.dbname, check_same_thread=check_same_thread, **kwargs\n",
    "        )\n",
    "        self.maxsize = maxsize\n",
    "\n",
    "        # self.conn.row_factory = sqlite3.Row\n",
    "\n",
    "        # status 0: free, 1: locked, 2: done\n",
    "\n",
    "        with self.conn as c:\n",
    "            # int == bool in SQLite\n",
    "            # will have rowid as primary key by default\n",
    "            c.execute(\n",
    "                \"\"\"CREATE TABLE IF NOT EXISTS Queue \n",
    "                ( message TEXT NOT NULL,\n",
    "                  task_id TEXT,\n",
    "                  status INTEGER,\n",
    "                  in_time INTEGER NOT NULL,\n",
    "                  lock_time INTEGER,\n",
    "                  out_time INTEGER )\n",
    "                \"\"\"\n",
    "            )\n",
    "\n",
    "            c.execute(\"CREATE INDEX TIdx ON Queue(task_id)\")\n",
    "            c.execute(\"CREATE INDEX SIdx ON Queue(status)\")\n",
    "\n",
    "            if fast:\n",
    "                c.execute(\"PRAGMA journal_mode = 'WAL';\")\n",
    "                c.execute(\"PRAGMA temp_store = 2;\")\n",
    "                c.execute(\"PRAGMA synchronous = 1;\")\n",
    "                c.execute(f\"PRAGMA cache_size = {-1 * 64_000};\")\n",
    "\n",
    "            if maxsize is not None:\n",
    "                c.execute(\n",
    "                    f\"\"\"\n",
    "CREATE TRIGGER IF NOT EXISTS maxsize_control \n",
    "   BEFORE INSERT\n",
    "   ON Queue\n",
    "   WHEN (SELECT COUNT(*) FROM Queue WHERE status = 0) >= {self.maxsize}\n",
    "BEGIN\n",
    "    SELECT RAISE (ABORT,'Max queue length reached');\n",
    "END;\"\"\"\n",
    "                )\n",
    "\n",
    "    def put(self, message: str, timeout: int = None) -> int:\n",
    "        \"Insert a new task\"\n",
    "\n",
    "        with self.conn as c:\n",
    "            rid = c.execute(\n",
    "                r\"INSERT INTO Queue VALUES (:message, lower(hex(randomblob(16))), 0, strftime('%s','now'), NULL, NULL)\",\n",
    "                {\"message\": message},\n",
    "            ).lastrowid\n",
    "\n",
    "        return rid\n",
    "\n",
    "    def pop(self) -> Dict[str, str]:\n",
    "\n",
    "        # lastrowid not working as expected :(\n",
    "\n",
    "        # this should happen all inside a transaction\n",
    "        with self.conn as c:\n",
    "            task = c.execute(\n",
    "                \"\"\"\n",
    "            SELECT message, task_id FROM Queue\n",
    "            WHERE rowid = (SELECT min(rowid) FROM Queue\n",
    "                           WHERE status = 0 LIMIT 1)\n",
    "            \"\"\"\n",
    "            ).fetchone()\n",
    "\n",
    "            if task is None:\n",
    "                return None\n",
    "\n",
    "            c.execute(\n",
    "                \"\"\"\n",
    "UPDATE Queue SET status = 1, lock_time = strftime('%s','now') WHERE task_id = :task_id\"\"\",\n",
    "                {\"task_id\": task[1]},\n",
    "            )\n",
    "\n",
    "            return task\n",
    "\n",
    "    def peek(self) -> Tuple:\n",
    "        \"Show next task to be popped.\"\n",
    "        # order by should not be really needed\n",
    "        value = self.conn.execute(\n",
    "            \"SELECT * FROM Queue WHERE status = 0 ORDER BY rowid LIMIT 1\"\n",
    "        ).fetchone()\n",
    "        return value\n",
    "\n",
    "    def get(self, task_id: str) -> Tuple:\n",
    "        \"Get a task by its `task_id`\"\n",
    "\n",
    "        return self.conn.execute(\n",
    "            \"SELECT * FROM Queue WHERE task_id = :task_id\", {\"task_id\": task_id}\n",
    "        ).fetchone()\n",
    "\n",
    "    def done(self, task_id) -> int:\n",
    "        \"\"\"\n",
    "        Mark task as done.\n",
    "        If executed multiple times, `done_time` will be\n",
    "        the last time this function is called.\n",
    "        \"\"\"\n",
    "\n",
    "        with self.conn as c:\n",
    "            x = c.execute(\n",
    "                \"UPDATE Queue SET status = 2,  out_time = strftime('%s','now') WHERE task_id = :task_id\",\n",
    "                {\"task_id\": task_id},\n",
    "            ).lastrowid\n",
    "        return x\n",
    "\n",
    "    def qsize(self) -> int:\n",
    "        return next(self.conn.execute(\"SELECT COUNT(*) FROM Queue WHERE status != 2\"))[0]\n",
    "\n",
    "    def empty(self) -> bool:\n",
    "        value = self.conn.execute(\n",
    "            \"\"\"\n",
    "SELECT (CASE SELECT COUNT(*) FROM Queue WHERE status = 0\n",
    "-- empty\n",
    "        WHEN 0 THEN 1\n",
    "-- not empy\n",
    "        ELSE 0\n",
    "    END)\n",
    "        \"\"\"\n",
    "        ).fetchone()\n",
    "\n",
    "        return bool(value)\n",
    "\n",
    "    def full(self) -> bool:\n",
    "        return False\n",
    "\n",
    "    def prune(self):\n",
    "        with self.conn as c:\n",
    "            c.execute(\"DELETE FROM Queue WHERE status = 2\")\n",
    "\n",
    "        self.conn.execute(\"VACUUM;\")\n",
    "        return\n",
    "\n",
    "    def __repr__(self):\n",
    "        return f\"{type(self).__name__}(dbname={self.dbname!r}, items={pprint.pformat(self.conn.execute('SELECT * FROM Queue').fetchall())})\"\n",
    "\n",
    "    def close(self):\n",
    "        self.conn.close()"
   ]
  },
  {
   "cell_type": "code",
   "execution_count": 37,
   "id": "nervous-moses",
   "metadata": {},
   "outputs": [
    {
     "data": {
      "text/plain": [
       "4"
      ]
     },
     "execution_count": 37,
     "metadata": {},
     "output_type": "execute_result"
    }
   ],
   "source": [
    "q = SQLQueue(\":memory:\")\n",
    "\n",
    "q.put(\"hello\")\n",
    "q.put(\"world\")\n",
    "q.put(\"foo\")\n",
    "q.put(\"bar\")"
   ]
  },
  {
   "cell_type": "code",
   "execution_count": 38,
   "id": "official-halloween",
   "metadata": {},
   "outputs": [
    {
     "data": {
      "text/plain": [
       "('hello', '84da70f3532c23b083cdb3af500742e4')"
      ]
     },
     "execution_count": 38,
     "metadata": {},
     "output_type": "execute_result"
    }
   ],
   "source": [
    "q.pop()"
   ]
  },
  {
   "cell_type": "code",
   "execution_count": 39,
   "id": "julian-seafood",
   "metadata": {},
   "outputs": [
    {
     "name": "stdout",
     "output_type": "stream",
     "text": [
      "SQLQueue(dbname=':memory:', items=[('hello', '84da70f3532c23b083cdb3af500742e4', 1, 1612167131, 1612167131, None),\n",
      " ('world', '63e7f8baf48ca108e4fce1c03bff9b34', 0, 1612167131, None, None),\n",
      " ('foo', '07ded462bd85da00344d3b984906745e', 0, 1612167131, None, None),\n",
      " ('bar', '3af4ab0b37b3ffb96880868de6f413cf', 0, 1612167131, None, None)])\n"
     ]
    }
   ],
   "source": [
    "print(q)"
   ]
  },
  {
   "cell_type": "code",
   "execution_count": 40,
   "id": "linear-greek",
   "metadata": {},
   "outputs": [],
   "source": [
    "# pop remaining\n",
    "for _ in range(3):\n",
    "    q.pop()\n",
    "\n",
    "\n",
    "assert q.pop() is None"
   ]
  },
  {
   "cell_type": "code",
   "execution_count": 41,
   "id": "motivated-system",
   "metadata": {},
   "outputs": [
    {
     "name": "stdout",
     "output_type": "stream",
     "text": [
      "SQLQueue(dbname=':memory:', items=[('hello', '84da70f3532c23b083cdb3af500742e4', 1, 1612167131, 1612167131, None),\n",
      " ('world', '63e7f8baf48ca108e4fce1c03bff9b34', 1, 1612167131, 1612167131, None),\n",
      " ('foo', '07ded462bd85da00344d3b984906745e', 1, 1612167131, 1612167131, None),\n",
      " ('bar', '3af4ab0b37b3ffb96880868de6f413cf', 1, 1612167131, 1612167131, None)])\n"
     ]
    }
   ],
   "source": [
    "print(q)"
   ]
  },
  {
   "cell_type": "code",
   "execution_count": 42,
   "id": "leading-whole",
   "metadata": {},
   "outputs": [
    {
     "data": {
      "text/plain": [
       "8"
      ]
     },
     "execution_count": 42,
     "metadata": {},
     "output_type": "execute_result"
    }
   ],
   "source": [
    "q.put(\"hello\")\n",
    "q.put(\"world\")\n",
    "q.put(\"foo\")\n",
    "q.put(\"bar\")"
   ]
  },
  {
   "cell_type": "code",
   "execution_count": 43,
   "id": "early-garage",
   "metadata": {},
   "outputs": [],
   "source": [
    "message, task_id = q.pop()\n",
    "\n",
    "assert message == \"hello\""
   ]
  },
  {
   "cell_type": "code",
   "execution_count": 44,
   "id": "rocky-disposition",
   "metadata": {},
   "outputs": [
    {
     "data": {
      "text/plain": [
       "('world', '1c51f4550d1a207d3af0b4da84a3c88c', 0, 1612167131, None, None)"
      ]
     },
     "execution_count": 44,
     "metadata": {},
     "output_type": "execute_result"
    }
   ],
   "source": [
    "q.peek()"
   ]
  },
  {
   "cell_type": "code",
   "execution_count": 45,
   "id": "prescription-density",
   "metadata": {},
   "outputs": [],
   "source": [
    "# next one that is free\n",
    "assert q.peek()[0] == \"world\"\n",
    "\n",
    "# status = 0 = free\n",
    "assert q.peek()[2] == 0"
   ]
  },
  {
   "cell_type": "code",
   "execution_count": 46,
   "id": "independent-interface",
   "metadata": {},
   "outputs": [
    {
     "data": {
      "text/plain": [
       "('hello', '7872dd9caa283ea0519764fd31b9f241')"
      ]
     },
     "execution_count": 46,
     "metadata": {},
     "output_type": "execute_result"
    }
   ],
   "source": [
    "message, task_id"
   ]
  },
  {
   "cell_type": "code",
   "execution_count": 47,
   "id": "julian-threat",
   "metadata": {},
   "outputs": [
    {
     "data": {
      "text/plain": [
       "8"
      ]
     },
     "execution_count": 47,
     "metadata": {},
     "output_type": "execute_result"
    }
   ],
   "source": [
    "q.done(task_id)"
   ]
  },
  {
   "cell_type": "code",
   "execution_count": 48,
   "id": "instrumental-eleven",
   "metadata": {},
   "outputs": [
    {
     "data": {
      "text/plain": [
       "('hello',\n",
       " '7872dd9caa283ea0519764fd31b9f241',\n",
       " 2,\n",
       " 1612167131,\n",
       " 1612167132,\n",
       " 1612167133)"
      ]
     },
     "execution_count": 48,
     "metadata": {},
     "output_type": "execute_result"
    }
   ],
   "source": [
    "q.get(task_id)"
   ]
  },
  {
   "cell_type": "code",
   "execution_count": 49,
   "id": "historic-missile",
   "metadata": {},
   "outputs": [
    {
     "name": "stdout",
     "output_type": "stream",
     "text": [
      "Task 7872dd9caa283ea0519764fd31b9f241 took 1 seconds to get done and was in the queue for 2 seconds\n"
     ]
    }
   ],
   "source": [
    "already_done = q.get(task_id)\n",
    "\n",
    "# stauts = 2 = done\n",
    "assert already_done[2] == 2\n",
    "\n",
    "in_time = already_done[3]\n",
    "lock_time = already_done[4]\n",
    "done_time = already_done[5]\n",
    "\n",
    "assert done_time >= lock_time >= in_time\n",
    "print(\n",
    "    f\"Task {already_done[1]} took {done_time - lock_time} seconds to get done and was in the queue for {done_time - in_time} seconds\"\n",
    ")"
   ]
  },
  {
   "cell_type": "code",
   "execution_count": 50,
   "id": "important-desktop",
   "metadata": {},
   "outputs": [
    {
     "name": "stdout",
     "output_type": "stream",
     "text": [
      "SQLQueue(dbname=':memory:', items=[('hello', '84da70f3532c23b083cdb3af500742e4', 1, 1612167131, 1612167131, None),\n",
      " ('world', '63e7f8baf48ca108e4fce1c03bff9b34', 1, 1612167131, 1612167131, None),\n",
      " ('foo', '07ded462bd85da00344d3b984906745e', 1, 1612167131, 1612167131, None),\n",
      " ('bar', '3af4ab0b37b3ffb96880868de6f413cf', 1, 1612167131, 1612167131, None),\n",
      " ('hello',\n",
      "  '7872dd9caa283ea0519764fd31b9f241',\n",
      "  2,\n",
      "  1612167131,\n",
      "  1612167132,\n",
      "  1612167133),\n",
      " ('world', '1c51f4550d1a207d3af0b4da84a3c88c', 0, 1612167131, None, None),\n",
      " ('foo', 'cd893aa10729dbd5acad86b9ca41df7a', 0, 1612167131, None, None),\n",
      " ('bar', '95cba60c630c51fda03eb14d268179c3', 0, 1612167131, None, None)])\n"
     ]
    }
   ],
   "source": [
    "print(q)"
   ]
  },
  {
   "cell_type": "code",
   "execution_count": 53,
   "id": "variable-bargain",
   "metadata": {},
   "outputs": [],
   "source": [
    "assert q.qsize() == 7"
   ]
  },
  {
   "cell_type": "code",
   "execution_count": 54,
   "id": "corporate-defensive",
   "metadata": {},
   "outputs": [],
   "source": [
    "next_one_msg = q.peek()[0]\n",
    "next_one_id = q.peek()[1]\n",
    "\n",
    "message, task_id = q.pop()\n",
    "\n",
    "assert message == next_one_msg\n",
    "assert task_id == next_one_id"
   ]
  },
  {
   "cell_type": "code",
   "execution_count": 55,
   "id": "supreme-journey",
   "metadata": {},
   "outputs": [
    {
     "name": "stdout",
     "output_type": "stream",
     "text": [
      "SQLQueue(dbname=':memory:', items=[('hello', '84da70f3532c23b083cdb3af500742e4', 1, 1612167131, 1612167131, None),\n",
      " ('world', '63e7f8baf48ca108e4fce1c03bff9b34', 1, 1612167131, 1612167131, None),\n",
      " ('foo', '07ded462bd85da00344d3b984906745e', 1, 1612167131, 1612167131, None),\n",
      " ('bar', '3af4ab0b37b3ffb96880868de6f413cf', 1, 1612167131, 1612167131, None),\n",
      " ('hello',\n",
      "  '7872dd9caa283ea0519764fd31b9f241',\n",
      "  2,\n",
      "  1612167131,\n",
      "  1612167132,\n",
      "  1612167133),\n",
      " ('world', '1c51f4550d1a207d3af0b4da84a3c88c', 1, 1612167131, 1612167147, None),\n",
      " ('foo', 'cd893aa10729dbd5acad86b9ca41df7a', 0, 1612167131, None, None),\n",
      " ('bar', '95cba60c630c51fda03eb14d268179c3', 0, 1612167131, None, None)])\n"
     ]
    }
   ],
   "source": [
    "print(q)"
   ]
  },
  {
   "cell_type": "code",
   "execution_count": 56,
   "id": "convenient-luther",
   "metadata": {},
   "outputs": [],
   "source": [
    "q.prune()"
   ]
  },
  {
   "cell_type": "code",
   "execution_count": 57,
   "id": "signed-compilation",
   "metadata": {},
   "outputs": [
    {
     "name": "stdout",
     "output_type": "stream",
     "text": [
      "SQLQueue(dbname=':memory:', items=[('hello', '84da70f3532c23b083cdb3af500742e4', 1, 1612167131, 1612167131, None),\n",
      " ('world', '63e7f8baf48ca108e4fce1c03bff9b34', 1, 1612167131, 1612167131, None),\n",
      " ('foo', '07ded462bd85da00344d3b984906745e', 1, 1612167131, 1612167131, None),\n",
      " ('bar', '3af4ab0b37b3ffb96880868de6f413cf', 1, 1612167131, 1612167131, None),\n",
      " ('world', '1c51f4550d1a207d3af0b4da84a3c88c', 1, 1612167131, 1612167147, None),\n",
      " ('foo', 'cd893aa10729dbd5acad86b9ca41df7a', 0, 1612167131, None, None),\n",
      " ('bar', '95cba60c630c51fda03eb14d268179c3', 0, 1612167131, None, None)])\n"
     ]
    }
   ],
   "source": [
    "print(q)"
   ]
  },
  {
   "cell_type": "code",
   "execution_count": 58,
   "id": "altered-split",
   "metadata": {},
   "outputs": [],
   "source": [
    "from string import ascii_lowercase, printable\n",
    "from random import choice\n",
    "\n",
    "\n",
    "def random_string(string_length=10, fuzz=False, space=False):\n",
    "    \"\"\"Generate a random string of fixed length \"\"\"\n",
    "    letters = ascii_lowercase\n",
    "    letters = letters + \" \" if space else letters\n",
    "    if fuzz:\n",
    "        letters = printable\n",
    "    return \"\".join(choice(letters) for i in range(string_length))"
   ]
  },
  {
   "cell_type": "code",
   "execution_count": 59,
   "id": "supported-motorcycle",
   "metadata": {},
   "outputs": [],
   "source": [
    "q = SQLQueue(\":memory:\", maxsize=50)"
   ]
  },
  {
   "cell_type": "code",
   "execution_count": 60,
   "id": "expanded-annex",
   "metadata": {},
   "outputs": [],
   "source": [
    "for i in range(50):\n",
    "\n",
    "    q.put(random_string(20))"
   ]
  },
  {
   "cell_type": "code",
   "execution_count": 61,
   "id": "finite-combat",
   "metadata": {},
   "outputs": [],
   "source": [
    "assert q.qsize() == 50"
   ]
  },
  {
   "cell_type": "code",
   "execution_count": 63,
   "id": "recognized-probe",
   "metadata": {},
   "outputs": [
    {
     "name": "stdout",
     "output_type": "stream",
     "text": [
      "test pass\n"
     ]
    }
   ],
   "source": [
    "try:\n",
    "    q.put(random_string(20))\n",
    "except sqlite3.IntegrityError: # max len reached\n",
    "    print(\"test pass\")"
   ]
  },
  {
   "cell_type": "code",
   "execution_count": 64,
   "id": "ultimate-insertion",
   "metadata": {},
   "outputs": [
    {
     "data": {
      "text/plain": [
       "('tqqzfijeqmiohdzewzau', '97ae2bc5ab7940b5dd78f73c9ba42067')"
      ]
     },
     "execution_count": 64,
     "metadata": {},
     "output_type": "execute_result"
    }
   ],
   "source": [
    "q.pop()"
   ]
  },
  {
   "cell_type": "code",
   "execution_count": 65,
   "id": "republican-writer",
   "metadata": {},
   "outputs": [
    {
     "data": {
      "text/plain": [
       "51"
      ]
     },
     "execution_count": 65,
     "metadata": {},
     "output_type": "execute_result"
    }
   ],
   "source": [
    "q.put(\"hello\")"
   ]
  },
  {
   "cell_type": "code",
   "execution_count": null,
   "id": "valued-baltimore",
   "metadata": {},
   "outputs": [],
   "source": []
  }
 ],
 "metadata": {
  "kernelspec": {
   "display_name": "Python 3",
   "language": "python",
   "name": "python3"
  },
  "language_info": {
   "codemirror_mode": {
    "name": "ipython",
    "version": 3
   },
   "file_extension": ".py",
   "mimetype": "text/x-python",
   "name": "python",
   "nbconvert_exporter": "python",
   "pygments_lexer": "ipython3",
   "version": "3.7.9"
  }
 },
 "nbformat": 4,
 "nbformat_minor": 5
}

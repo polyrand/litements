{
 "cells": [
  {
   "cell_type": "markdown",
   "id": "interim-extreme",
   "metadata": {},
   "source": [
    "Like Python functools.lru_cache but with a ttl (time to live)."
   ]
  },
  {
   "cell_type": "code",
   "execution_count": 64,
   "id": "fewer-intermediate",
   "metadata": {},
   "outputs": [],
   "source": [
    "# export\n",
    "from collections.abc import MutableMapping\n",
    "import json\n",
    "import pprint\n",
    "from operator import itemgetter\n",
    "from functools import wraps, partial\n",
    "from typing import Callable, Tuple, Dict, Any\n",
    "import sqlite3\n",
    "import time"
   ]
  },
  {
   "cell_type": "code",
   "execution_count": 69,
   "id": "professional-symbol",
   "metadata": {},
   "outputs": [],
   "source": [
    "# export\n",
    "class SQLTtlCache(MutableMapping):\n",
    "    def __init__(\n",
    "        self,\n",
    "        dbname=\":memory:\",\n",
    "        maxsize: int = None,\n",
    "        ttl: int = None,  # seconds\n",
    "        check_same_thread=False,\n",
    "        fast=True,\n",
    "        encoder: Callable = lambda x: json.dumps(x),\n",
    "        decoder: Callable = lambda x: json.loads(x),\n",
    "        **kwargs,\n",
    "    ):\n",
    "        self.dbname = dbname\n",
    "        self.conn = sqlite3.connect(\n",
    "            self.dbname, check_same_thread=check_same_thread, **kwargs\n",
    "        )\n",
    "        self.encoder = encoder\n",
    "        self.decoder = decoder\n",
    "        self.maxsize = maxsize\n",
    "        self.ttl = ttl\n",
    "\n",
    "        with self.conn as c:\n",
    "            \n",
    "            c.execute(\"PRAGMA foreign_keys = ON;\")\n",
    "            \n",
    "            c.execute(\n",
    "                \"CREATE TABLE IF NOT EXISTS Cache (key text NOT NULL PRIMARY KEY, value text)\"\n",
    "            )\n",
    "\n",
    "            c.execute(\n",
    "                \"\"\"CREATE TABLE IF NOT EXISTS Ttls ( key text NOT NULL PRIMARY KEY,\n",
    "                                                     ttl int NOT NULL,\n",
    "                                                     FOREIGN KEY (key) REFERENCES Cache (key)\n",
    "                                                        ON DELETE CASCADE\n",
    "                                                        ON UPDATE CASCADE )\"\"\"\n",
    "            )\n",
    "\n",
    "            c.execute(\n",
    "                \"CREATE TABLE IF NOT EXISTS Cache (key text NOT NULL PRIMARY KEY, value text)\"\n",
    "            )\n",
    "\n",
    "            if fast:\n",
    "                c.execute(\"PRAGMA journal_mode = 'WAL';\")\n",
    "                c.execute(\"PRAGMA temp_store = 2;\")\n",
    "                c.execute(\"PRAGMA synchronous = 1;\")\n",
    "                c.execute(f\"PRAGMA cache_size = {-1 * 64_000};\")\n",
    "\n",
    "            if self.maxsize is not None:\n",
    "                c.execute(\n",
    "                    f\"\"\"\n",
    "CREATE TRIGGER IF NOT EXISTS maxsize_control \n",
    "   BEFORE INSERT\n",
    "   ON Cache\n",
    "   WHEN (SELECT COUNT(*) FROM Cache) >= {self.maxsize}\n",
    "BEGIN\n",
    "    DELETE FROM Cache WHERE rowid = (SELECT min(rowid) FROM Cache);\n",
    "END;\"\"\"\n",
    "                )\n",
    "\n",
    "    def __setitem__(self, key, value):\n",
    "        with self.conn as c:\n",
    "            c.execute(\n",
    "                \"INSERT OR REPLACE INTO  Cache VALUES (?, ?)\",\n",
    "                (key, self.encoder(value)),\n",
    "            )\n",
    "\n",
    "            # Do NOT update TTL -> OR IGNORE\n",
    "            c.execute(\n",
    "                f\"INSERT OR IGNORE INTO Ttls VALUES (?, (strftime('%s','now') + {self.ttl}))\",\n",
    "                (key,),\n",
    "            )\n",
    "\n",
    "    def __getitem__(self, key):\n",
    "        \n",
    "        result = None\n",
    "        \n",
    "        with self.conn as c:\n",
    "            ttl = c.execute(\"SELECT ttl FROM Ttls WHERE key = ?\", (key,)).fetchone()\n",
    "            \n",
    "            if (ttl is None) or (ttl[0] < time.time()):\n",
    "                c.execute(\"DELETE FROM Cache WHERE key = ?\", (key,))\n",
    "                return result\n",
    "            \n",
    "            result = c.execute(\"SELECT value FROM Cache WHERE key = ?\", (key,)).fetchone()\n",
    "        \n",
    "        if result is None:\n",
    "            raise KeyError(key)\n",
    "        return self.decoder(row[0])\n",
    "\n",
    "    def __delitem__(self, key):\n",
    "        if key not in self:\n",
    "            raise KeyError(key)\n",
    "        with self.conn as c:\n",
    "            c.execute(\"DELETE FROM Cache WHERE key=?\", (key,))\n",
    "\n",
    "    def __len__(self):\n",
    "        return next(self.conn.execute(\"SELECT COUNT(*) FROM Cache\"))[0]\n",
    "\n",
    "    def __iter__(self):\n",
    "        c = self.conn.execute(\"SELECT key FROM Cache\")\n",
    "        return map(itemgetter(0), c.fetchall())\n",
    "\n",
    "    def __repr__(self):\n",
    "        return f\"{type(self).__name__}(dbname={self.dbname!r}, items={pprint.pformat(list(self.items()))})\"\n",
    "\n",
    "    def vacuum(self):\n",
    "        self.conn.execute(\"VACUUM;\")\n",
    "\n",
    "    def clear(self):\n",
    "        self.conn.execute(\"DELETE FROM Cache\")\n",
    "\n",
    "    def close(self):\n",
    "        self.conn.close()"
   ]
  },
  {
   "cell_type": "code",
   "execution_count": 70,
   "id": "disturbed-absorption",
   "metadata": {},
   "outputs": [],
   "source": [
    "c = SQLTtlCache(ttl=20)"
   ]
  },
  {
   "cell_type": "code",
   "execution_count": 71,
   "id": "adjacent-repository",
   "metadata": {},
   "outputs": [],
   "source": [
    "c[\"asd\"] = 123"
   ]
  },
  {
   "cell_type": "code",
   "execution_count": 72,
   "id": "employed-alexandria",
   "metadata": {},
   "outputs": [
    {
     "ename": "NameError",
     "evalue": "name 'row' is not defined",
     "output_type": "error",
     "traceback": [
      "\u001b[0;31m---------------------------------------------------------------------------\u001b[0m",
      "\u001b[0;31mNameError\u001b[0m                                 Traceback (most recent call last)",
      "\u001b[0;32m~/Projects/python/jqlite/.venv/lib/python3.7/site-packages/IPython/core/formatters.py\u001b[0m in \u001b[0;36m__call__\u001b[0;34m(self, obj)\u001b[0m\n\u001b[1;32m    700\u001b[0m                 \u001b[0mtype_pprinters\u001b[0m\u001b[0;34m=\u001b[0m\u001b[0mself\u001b[0m\u001b[0;34m.\u001b[0m\u001b[0mtype_printers\u001b[0m\u001b[0;34m,\u001b[0m\u001b[0;34m\u001b[0m\u001b[0;34m\u001b[0m\u001b[0m\n\u001b[1;32m    701\u001b[0m                 deferred_pprinters=self.deferred_printers)\n\u001b[0;32m--> 702\u001b[0;31m             \u001b[0mprinter\u001b[0m\u001b[0;34m.\u001b[0m\u001b[0mpretty\u001b[0m\u001b[0;34m(\u001b[0m\u001b[0mobj\u001b[0m\u001b[0;34m)\u001b[0m\u001b[0;34m\u001b[0m\u001b[0;34m\u001b[0m\u001b[0m\n\u001b[0m\u001b[1;32m    703\u001b[0m             \u001b[0mprinter\u001b[0m\u001b[0;34m.\u001b[0m\u001b[0mflush\u001b[0m\u001b[0;34m(\u001b[0m\u001b[0;34m)\u001b[0m\u001b[0;34m\u001b[0m\u001b[0;34m\u001b[0m\u001b[0m\n\u001b[1;32m    704\u001b[0m             \u001b[0;32mreturn\u001b[0m \u001b[0mstream\u001b[0m\u001b[0;34m.\u001b[0m\u001b[0mgetvalue\u001b[0m\u001b[0;34m(\u001b[0m\u001b[0;34m)\u001b[0m\u001b[0;34m\u001b[0m\u001b[0;34m\u001b[0m\u001b[0m\n",
      "\u001b[0;32m~/Projects/python/jqlite/.venv/lib/python3.7/site-packages/IPython/lib/pretty.py\u001b[0m in \u001b[0;36mpretty\u001b[0;34m(self, obj)\u001b[0m\n\u001b[1;32m    392\u001b[0m                         \u001b[0;32mif\u001b[0m \u001b[0mcls\u001b[0m \u001b[0;32mis\u001b[0m \u001b[0;32mnot\u001b[0m \u001b[0mobject\u001b[0m\u001b[0;31m \u001b[0m\u001b[0;31m\\\u001b[0m\u001b[0;34m\u001b[0m\u001b[0;34m\u001b[0m\u001b[0m\n\u001b[1;32m    393\u001b[0m                                 \u001b[0;32mand\u001b[0m \u001b[0mcallable\u001b[0m\u001b[0;34m(\u001b[0m\u001b[0mcls\u001b[0m\u001b[0;34m.\u001b[0m\u001b[0m__dict__\u001b[0m\u001b[0;34m.\u001b[0m\u001b[0mget\u001b[0m\u001b[0;34m(\u001b[0m\u001b[0;34m'__repr__'\u001b[0m\u001b[0;34m)\u001b[0m\u001b[0;34m)\u001b[0m\u001b[0;34m:\u001b[0m\u001b[0;34m\u001b[0m\u001b[0;34m\u001b[0m\u001b[0m\n\u001b[0;32m--> 394\u001b[0;31m                             \u001b[0;32mreturn\u001b[0m \u001b[0m_repr_pprint\u001b[0m\u001b[0;34m(\u001b[0m\u001b[0mobj\u001b[0m\u001b[0;34m,\u001b[0m \u001b[0mself\u001b[0m\u001b[0;34m,\u001b[0m \u001b[0mcycle\u001b[0m\u001b[0;34m)\u001b[0m\u001b[0;34m\u001b[0m\u001b[0;34m\u001b[0m\u001b[0m\n\u001b[0m\u001b[1;32m    395\u001b[0m \u001b[0;34m\u001b[0m\u001b[0m\n\u001b[1;32m    396\u001b[0m             \u001b[0;32mreturn\u001b[0m \u001b[0m_default_pprint\u001b[0m\u001b[0;34m(\u001b[0m\u001b[0mobj\u001b[0m\u001b[0;34m,\u001b[0m \u001b[0mself\u001b[0m\u001b[0;34m,\u001b[0m \u001b[0mcycle\u001b[0m\u001b[0;34m)\u001b[0m\u001b[0;34m\u001b[0m\u001b[0;34m\u001b[0m\u001b[0m\n",
      "\u001b[0;32m~/Projects/python/jqlite/.venv/lib/python3.7/site-packages/IPython/lib/pretty.py\u001b[0m in \u001b[0;36m_repr_pprint\u001b[0;34m(obj, p, cycle)\u001b[0m\n\u001b[1;32m    698\u001b[0m     \u001b[0;34m\"\"\"A pprint that just redirects to the normal repr function.\"\"\"\u001b[0m\u001b[0;34m\u001b[0m\u001b[0;34m\u001b[0m\u001b[0m\n\u001b[1;32m    699\u001b[0m     \u001b[0;31m# Find newlines and replace them with p.break_()\u001b[0m\u001b[0;34m\u001b[0m\u001b[0;34m\u001b[0m\u001b[0;34m\u001b[0m\u001b[0m\n\u001b[0;32m--> 700\u001b[0;31m     \u001b[0moutput\u001b[0m \u001b[0;34m=\u001b[0m \u001b[0mrepr\u001b[0m\u001b[0;34m(\u001b[0m\u001b[0mobj\u001b[0m\u001b[0;34m)\u001b[0m\u001b[0;34m\u001b[0m\u001b[0;34m\u001b[0m\u001b[0m\n\u001b[0m\u001b[1;32m    701\u001b[0m     \u001b[0mlines\u001b[0m \u001b[0;34m=\u001b[0m \u001b[0moutput\u001b[0m\u001b[0;34m.\u001b[0m\u001b[0msplitlines\u001b[0m\u001b[0;34m(\u001b[0m\u001b[0;34m)\u001b[0m\u001b[0;34m\u001b[0m\u001b[0;34m\u001b[0m\u001b[0m\n\u001b[1;32m    702\u001b[0m     \u001b[0;32mwith\u001b[0m \u001b[0mp\u001b[0m\u001b[0;34m.\u001b[0m\u001b[0mgroup\u001b[0m\u001b[0;34m(\u001b[0m\u001b[0;34m)\u001b[0m\u001b[0;34m:\u001b[0m\u001b[0;34m\u001b[0m\u001b[0;34m\u001b[0m\u001b[0m\n",
      "\u001b[0;32m<ipython-input-69-45e2aed4db5a>\u001b[0m in \u001b[0;36m__repr__\u001b[0;34m(self)\u001b[0m\n\u001b[1;32m    103\u001b[0m \u001b[0;34m\u001b[0m\u001b[0m\n\u001b[1;32m    104\u001b[0m     \u001b[0;32mdef\u001b[0m \u001b[0m__repr__\u001b[0m\u001b[0;34m(\u001b[0m\u001b[0mself\u001b[0m\u001b[0;34m)\u001b[0m\u001b[0;34m:\u001b[0m\u001b[0;34m\u001b[0m\u001b[0;34m\u001b[0m\u001b[0m\n\u001b[0;32m--> 105\u001b[0;31m         \u001b[0;32mreturn\u001b[0m \u001b[0;34mf\"{type(self).__name__}(dbname={self.dbname!r}, items={pprint.pformat(list(self.items()))})\"\u001b[0m\u001b[0;34m\u001b[0m\u001b[0;34m\u001b[0m\u001b[0m\n\u001b[0m\u001b[1;32m    106\u001b[0m \u001b[0;34m\u001b[0m\u001b[0m\n\u001b[1;32m    107\u001b[0m     \u001b[0;32mdef\u001b[0m \u001b[0mvacuum\u001b[0m\u001b[0;34m(\u001b[0m\u001b[0mself\u001b[0m\u001b[0;34m)\u001b[0m\u001b[0;34m:\u001b[0m\u001b[0;34m\u001b[0m\u001b[0;34m\u001b[0m\u001b[0m\n",
      "\u001b[0;32m~/.pyenv/versions/3.7.7/lib/python3.7/_collections_abc.py\u001b[0m in \u001b[0;36m__iter__\u001b[0;34m(self)\u001b[0m\n\u001b[1;32m    742\u001b[0m     \u001b[0;32mdef\u001b[0m \u001b[0m__iter__\u001b[0m\u001b[0;34m(\u001b[0m\u001b[0mself\u001b[0m\u001b[0;34m)\u001b[0m\u001b[0;34m:\u001b[0m\u001b[0;34m\u001b[0m\u001b[0;34m\u001b[0m\u001b[0m\n\u001b[1;32m    743\u001b[0m         \u001b[0;32mfor\u001b[0m \u001b[0mkey\u001b[0m \u001b[0;32min\u001b[0m \u001b[0mself\u001b[0m\u001b[0;34m.\u001b[0m\u001b[0m_mapping\u001b[0m\u001b[0;34m:\u001b[0m\u001b[0;34m\u001b[0m\u001b[0;34m\u001b[0m\u001b[0m\n\u001b[0;32m--> 744\u001b[0;31m             \u001b[0;32myield\u001b[0m \u001b[0;34m(\u001b[0m\u001b[0mkey\u001b[0m\u001b[0;34m,\u001b[0m \u001b[0mself\u001b[0m\u001b[0;34m.\u001b[0m\u001b[0m_mapping\u001b[0m\u001b[0;34m[\u001b[0m\u001b[0mkey\u001b[0m\u001b[0;34m]\u001b[0m\u001b[0;34m)\u001b[0m\u001b[0;34m\u001b[0m\u001b[0;34m\u001b[0m\u001b[0m\n\u001b[0m\u001b[1;32m    745\u001b[0m \u001b[0;34m\u001b[0m\u001b[0m\n\u001b[1;32m    746\u001b[0m \u001b[0mItemsView\u001b[0m\u001b[0;34m.\u001b[0m\u001b[0mregister\u001b[0m\u001b[0;34m(\u001b[0m\u001b[0mdict_items\u001b[0m\u001b[0;34m)\u001b[0m\u001b[0;34m\u001b[0m\u001b[0;34m\u001b[0m\u001b[0m\n",
      "\u001b[0;32m<ipython-input-69-45e2aed4db5a>\u001b[0m in \u001b[0;36m__getitem__\u001b[0;34m(self, key)\u001b[0m\n\u001b[1;32m     87\u001b[0m         \u001b[0;32mif\u001b[0m \u001b[0mresult\u001b[0m \u001b[0;32mis\u001b[0m \u001b[0;32mNone\u001b[0m\u001b[0;34m:\u001b[0m\u001b[0;34m\u001b[0m\u001b[0;34m\u001b[0m\u001b[0m\n\u001b[1;32m     88\u001b[0m             \u001b[0;32mraise\u001b[0m \u001b[0mKeyError\u001b[0m\u001b[0;34m(\u001b[0m\u001b[0mkey\u001b[0m\u001b[0;34m)\u001b[0m\u001b[0;34m\u001b[0m\u001b[0;34m\u001b[0m\u001b[0m\n\u001b[0;32m---> 89\u001b[0;31m         \u001b[0;32mreturn\u001b[0m \u001b[0mself\u001b[0m\u001b[0;34m.\u001b[0m\u001b[0mdecoder\u001b[0m\u001b[0;34m(\u001b[0m\u001b[0mrow\u001b[0m\u001b[0;34m[\u001b[0m\u001b[0;36m0\u001b[0m\u001b[0;34m]\u001b[0m\u001b[0;34m)\u001b[0m\u001b[0;34m\u001b[0m\u001b[0;34m\u001b[0m\u001b[0m\n\u001b[0m\u001b[1;32m     90\u001b[0m \u001b[0;34m\u001b[0m\u001b[0m\n\u001b[1;32m     91\u001b[0m     \u001b[0;32mdef\u001b[0m \u001b[0m__delitem__\u001b[0m\u001b[0;34m(\u001b[0m\u001b[0mself\u001b[0m\u001b[0;34m,\u001b[0m \u001b[0mkey\u001b[0m\u001b[0;34m)\u001b[0m\u001b[0;34m:\u001b[0m\u001b[0;34m\u001b[0m\u001b[0;34m\u001b[0m\u001b[0m\n",
      "\u001b[0;31mNameError\u001b[0m: name 'row' is not defined"
     ]
    }
   ],
   "source": [
    "c"
   ]
  },
  {
   "cell_type": "code",
   "execution_count": 5,
   "id": "expressed-interest",
   "metadata": {},
   "outputs": [],
   "source": [
    "a = (1, \"asdas\", 3)\n",
    "kw = {\"bb\": 123, \"aa\": 34, \"xs\": \"bm\"}"
   ]
  },
  {
   "cell_type": "code",
   "execution_count": 6,
   "id": "speaking-scheduling",
   "metadata": {},
   "outputs": [
    {
     "data": {
      "text/plain": [
       "[('aa', 34), ('bb', 123), ('xs', 'bm')]"
      ]
     },
     "execution_count": 6,
     "metadata": {},
     "output_type": "execute_result"
    }
   ],
   "source": [
    "sorted(kw.items())"
   ]
  },
  {
   "cell_type": "code",
   "execution_count": 7,
   "id": "double-cookie",
   "metadata": {},
   "outputs": [
    {
     "data": {
      "text/plain": [
       "\"((1, 'asdas', 3), {'bb': 123, 'aa': 34, 'xs': 'bm'})\""
      ]
     },
     "execution_count": 7,
     "metadata": {},
     "output_type": "execute_result"
    }
   ],
   "source": [
    "str((a,kw))"
   ]
  },
  {
   "cell_type": "markdown",
   "id": "provincial-aquarium",
   "metadata": {},
   "source": [
    "Adapted from the Python source code"
   ]
  },
  {
   "cell_type": "code",
   "execution_count": 8,
   "id": "separate-colleague",
   "metadata": {},
   "outputs": [],
   "source": [
    "def make_key(\n",
    "    args,\n",
    "    kwargs,\n",
    "    kwd_mark=(\"::\",),\n",
    "    fasttypes={int, str},\n",
    "):\n",
    "    \"\"\"Make a cache key from optionally typed positional and keyword arguments\n",
    "\n",
    "    The key is constructed in a way that is flat as possible rather than\n",
    "    as a nested structure that would take more memory.\n",
    "\n",
    "    If there is only a single argument and its data type is known to cache\n",
    "    its hash value, then that argument is returned without a wrapper.  This\n",
    "    saves space and improves lookup speed.\n",
    "\n",
    "    \"\"\"\n",
    "    # All of code below relies on kwds preserving the order input by the user.\n",
    "    # Formerly, we sorted() the kwds before looping.  The new way is *much*\n",
    "    # faster; however, it means that f(x=1, y=2) will now be treated as a\n",
    "    # distinct call from f(y=2, x=1) which will be cached separately.\n",
    "    key = args\n",
    "    if kwargs:\n",
    "        key += kwd_mark\n",
    "        for item in kwargs.items():\n",
    "            key += item\n",
    "    return key"
   ]
  },
  {
   "cell_type": "markdown",
   "id": "affected-procurement",
   "metadata": {},
   "source": [
    "Without kwargs"
   ]
  },
  {
   "cell_type": "code",
   "execution_count": 9,
   "id": "attached-manitoba",
   "metadata": {},
   "outputs": [
    {
     "data": {
      "text/plain": [
       "(1,)"
      ]
     },
     "execution_count": 9,
     "metadata": {},
     "output_type": "execute_result"
    }
   ],
   "source": [
    "make_key((1,), None)"
   ]
  },
  {
   "cell_type": "markdown",
   "id": "egyptian-shower",
   "metadata": {},
   "source": [
    "With kwargs"
   ]
  },
  {
   "cell_type": "code",
   "execution_count": 10,
   "id": "expressed-reynolds",
   "metadata": {},
   "outputs": [
    {
     "data": {
      "text/plain": [
       "(1, 2, 3, '::', 'a', 12, 'b', 'mm')"
      ]
     },
     "execution_count": 10,
     "metadata": {},
     "output_type": "execute_result"
    }
   ],
   "source": [
    "make_key((1,2,3), {\"a\": 12, \"b\": \"mm\"})"
   ]
  },
  {
   "cell_type": "markdown",
   "id": "typical-danish",
   "metadata": {},
   "source": [
    "I can't use `cache_key = str((func.__name__, args + tuple(kwargs.values())))` because if we call the function once with the correct `kwargs` then we could call it with an incorrect `kwarg` name and it would still return a value."
   ]
  },
  {
   "cell_type": "code",
   "execution_count": 11,
   "id": "developed-network",
   "metadata": {},
   "outputs": [],
   "source": [
    "def lru_cache(func: Callable = None, maxsize: int = None) -> Callable:\n",
    "\n",
    "    # print(func)\n",
    "    # print(maxsize)\n",
    "\n",
    "    cache = SQLCache(\":memory:\", maxsize=maxsize)\n",
    "\n",
    "    if func is None:\n",
    "        return partial(lru_cache, maxsize=maxsize)\n",
    "\n",
    "    @wraps(func)\n",
    "    def wrapper(*args: Any, **kwargs: Any) -> Any:\n",
    "\n",
    "        # print(f\"Len: {len(cache)}\")\n",
    "\n",
    "        cache_key = str((func.__name__,) + make_key(args, kwargs))\n",
    "\n",
    "        # print(f\"Cache key: {cache_key}\")\n",
    "\n",
    "        if cache_key in cache:\n",
    "            # print(\"Hit!\")\n",
    "            return cache[cache_key]\n",
    "\n",
    "        result = func(*args, **kwargs)\n",
    "\n",
    "        cache[cache_key] = result\n",
    "\n",
    "        return result\n",
    "\n",
    "    wrapper.cache_size = lambda: len(cache)\n",
    "    wrapper.cache_clear = lambda: cache.clear()\n",
    "\n",
    "    return wrapper"
   ]
  },
  {
   "cell_type": "code",
   "execution_count": 12,
   "id": "desperate-capability",
   "metadata": {},
   "outputs": [],
   "source": [
    "@lru_cache(maxsize=20)\n",
    "def add(a, b, c=None):\n",
    "    \n",
    "    if c is None:\n",
    "        c = 0\n",
    "    \n",
    "    return a + b + c"
   ]
  },
  {
   "cell_type": "code",
   "execution_count": 13,
   "id": "diverse-notification",
   "metadata": {},
   "outputs": [],
   "source": [
    "add(1,2,3)\n",
    "\n",
    "for i in range(19):\n",
    "    add(1, i, c=i)\n",
    "\n",
    "assert add.cache_size() == 20\n",
    "\n",
    "add(200, 150, 100)\n",
    "\n",
    "# maxsize works\n",
    "\n",
    "assert add.cache_size() == 20"
   ]
  },
  {
   "cell_type": "code",
   "execution_count": 14,
   "id": "light-twelve",
   "metadata": {},
   "outputs": [],
   "source": [
    "# cache clearing works\n",
    "\n",
    "add.cache_clear()\n",
    "\n",
    "assert add.cache_size() == 0"
   ]
  },
  {
   "cell_type": "code",
   "execution_count": 15,
   "id": "sufficient-absorption",
   "metadata": {},
   "outputs": [
    {
     "name": "stdout",
     "output_type": "stream",
     "text": [
      "pass\n"
     ]
    }
   ],
   "source": [
    "# incorrect kwars are not cached\n",
    "\n",
    "try:\n",
    "    add(1, b=24, x=4)\n",
    "except TypeError:\n",
    "    print(\"pass\")"
   ]
  },
  {
   "cell_type": "code",
   "execution_count": 16,
   "id": "wooden-offer",
   "metadata": {},
   "outputs": [],
   "source": [
    "@lru_cache\n",
    "def add(a, b, c=None):\n",
    "    \n",
    "    if c is None:\n",
    "        c = 0\n",
    "    \n",
    "    return a + b + c"
   ]
  },
  {
   "cell_type": "code",
   "execution_count": 17,
   "id": "fatal-tulsa",
   "metadata": {},
   "outputs": [],
   "source": [
    "add(1,2,3)\n",
    "\n",
    "for i in range(200):\n",
    "    add(1, i, c=i)\n",
    "\n",
    "assert add.cache_size() == 201\n",
    "\n",
    "add(200, 150, 100)\n",
    "\n",
    "# maxsize works\n",
    "\n",
    "assert add.cache_size() == 202"
   ]
  },
  {
   "cell_type": "code",
   "execution_count": 18,
   "id": "breeding-pickup",
   "metadata": {},
   "outputs": [],
   "source": [
    "# cache clearing works\n",
    "\n",
    "add.cache_clear()\n",
    "\n",
    "assert add.cache_size() == 0"
   ]
  },
  {
   "cell_type": "markdown",
   "id": "guided-assessment",
   "metadata": {},
   "source": [
    "**Benchmarks**"
   ]
  },
  {
   "cell_type": "code",
   "execution_count": 19,
   "id": "quality-deposit",
   "metadata": {},
   "outputs": [],
   "source": [
    "from functools import lru_cache as pycache"
   ]
  },
  {
   "cell_type": "code",
   "execution_count": 20,
   "id": "dramatic-fleet",
   "metadata": {},
   "outputs": [],
   "source": [
    "@lru_cache(maxsize=None)\n",
    "def add1(a, b, c=None):\n",
    "\n",
    "    if c is None:\n",
    "        c = 0\n",
    "\n",
    "    return a + b + c\n",
    "\n",
    "\n",
    "@pycache(maxsize=None)\n",
    "def add2(a, b, c=None):\n",
    "\n",
    "    if c is None:\n",
    "        c = 0\n",
    "\n",
    "    return a + b + c"
   ]
  },
  {
   "cell_type": "code",
   "execution_count": 21,
   "id": "eight-vertex",
   "metadata": {},
   "outputs": [
    {
     "name": "stdout",
     "output_type": "stream",
     "text": [
      "2.6 ms ± 92.7 µs per loop (mean ± std. dev. of 7 runs, 100 loops each)\n"
     ]
    }
   ],
   "source": [
    "%%timeit\n",
    "\n",
    "for i in range(200):\n",
    "    add1(1, i, c=i)"
   ]
  },
  {
   "cell_type": "code",
   "execution_count": 22,
   "id": "acceptable-manchester",
   "metadata": {},
   "outputs": [
    {
     "name": "stdout",
     "output_type": "stream",
     "text": [
      "55 µs ± 5.45 µs per loop (mean ± std. dev. of 7 runs, 10000 loops each)\n"
     ]
    }
   ],
   "source": [
    "%%timeit\n",
    "\n",
    "for i in range(200):\n",
    "    add2(1, i, c=i)"
   ]
  },
  {
   "cell_type": "code",
   "execution_count": 26,
   "id": "extraordinary-opposition",
   "metadata": {},
   "outputs": [],
   "source": [
    "@lru_cache(maxsize=1000)\n",
    "def add1(a, b, c=None):\n",
    "\n",
    "    if c is None:\n",
    "        c = 0\n",
    "\n",
    "    return a + b + c\n",
    "\n",
    "\n",
    "@pycache(maxsize=1000)\n",
    "def add2(a, b, c=None):\n",
    "\n",
    "    if c is None:\n",
    "        c = 0\n",
    "\n",
    "    return a + b + c"
   ]
  },
  {
   "cell_type": "code",
   "execution_count": 27,
   "id": "possible-efficiency",
   "metadata": {},
   "outputs": [
    {
     "name": "stdout",
     "output_type": "stream",
     "text": [
      "58.6 ms ± 479 µs per loop (mean ± std. dev. of 7 runs, 10 loops each)\n"
     ]
    }
   ],
   "source": [
    "%%timeit\n",
    "\n",
    "for i in range(2000):\n",
    "    add1(1, i, c=i)"
   ]
  },
  {
   "cell_type": "code",
   "execution_count": 28,
   "id": "integrated-canadian",
   "metadata": {},
   "outputs": [
    {
     "name": "stdout",
     "output_type": "stream",
     "text": [
      "1.17 ms ± 86.9 µs per loop (mean ± std. dev. of 7 runs, 1000 loops each)\n"
     ]
    }
   ],
   "source": [
    "%%timeit\n",
    "\n",
    "for i in range(2000):\n",
    "    add2(1, i, c=i)"
   ]
  },
  {
   "cell_type": "markdown",
   "id": "greek-racing",
   "metadata": {},
   "source": [
    "From the Python source code"
   ]
  },
  {
   "cell_type": "code",
   "execution_count": 306,
   "id": "normal-robertson",
   "metadata": {},
   "outputs": [],
   "source": [
    "class _HashedSeq(list):\n",
    "    \"\"\"This class guarantees that hash() will be called no more than once\n",
    "    per element.  This is important because the lru_cache() will hash\n",
    "    the key multiple times on a cache miss.\n",
    "\n",
    "    \"\"\"\n",
    "\n",
    "    __slots__ = \"hashvalue\"\n",
    "\n",
    "    def __init__(self, tup, hash=hash):\n",
    "        self[:] = tup\n",
    "        self.hashvalue = hash(tup)\n",
    "\n",
    "    def __hash__(self):\n",
    "        return self.hashvalue\n",
    "\n",
    "\n",
    "def _make_key(\n",
    "    args,\n",
    "    kwds,\n",
    "    typed,\n",
    "    kwd_mark=(object(),),\n",
    "    fasttypes={int, str},\n",
    "    tuple=tuple,\n",
    "    type=type,\n",
    "    len=len,\n",
    "):\n",
    "    \"\"\"Make a cache key from optionally typed positional and keyword arguments\n",
    "\n",
    "    The key is constructed in a way that is flat as possible rather than\n",
    "    as a nested structure that would take more memory.\n",
    "\n",
    "    If there is only a single argument and its data type is known to cache\n",
    "    its hash value, then that argument is returned without a wrapper.  This\n",
    "    saves space and improves lookup speed.\n",
    "\n",
    "    \"\"\"\n",
    "    # All of code below relies on kwds preserving the order input by the user.\n",
    "    # Formerly, we sorted() the kwds before looping.  The new way is *much*\n",
    "    # faster; however, it means that f(x=1, y=2) will now be treated as a\n",
    "    # distinct call from f(y=2, x=1) which will be cached separately.\n",
    "    key = args\n",
    "    if kwds:\n",
    "        key += kwd_mark\n",
    "        for item in kwds.items():\n",
    "            key += item\n",
    "    if typed:\n",
    "        key += tuple(type(v) for v in args)\n",
    "        if kwds:\n",
    "            key += tuple(type(v) for v in kwds.values())\n",
    "    elif len(key) == 1 and type(key[0]) in fasttypes:\n",
    "        return key[0]\n",
    "    return _HashedSeq(key)"
   ]
  },
  {
   "cell_type": "code",
   "execution_count": null,
   "id": "split-rwanda",
   "metadata": {},
   "outputs": [],
   "source": []
  }
 ],
 "metadata": {
  "kernelspec": {
   "display_name": "jqlite",
   "language": "python",
   "name": "jqlite"
  },
  "language_info": {
   "codemirror_mode": {
    "name": "ipython",
    "version": 3
   },
   "file_extension": ".py",
   "mimetype": "text/x-python",
   "name": "python",
   "nbconvert_exporter": "python",
   "pygments_lexer": "ipython3",
   "version": "3.7.7"
  }
 },
 "nbformat": 4,
 "nbformat_minor": 5
}

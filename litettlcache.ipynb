{
 "cells": [
  {
   "cell_type": "markdown",
   "id": "essential-methodology",
   "metadata": {},
   "source": [
    "Like Python functools.lru_cache but with a ttl (time to live)."
   ]
  },
  {
   "cell_type": "code",
   "execution_count": 43,
   "id": "polish-terminal",
   "metadata": {},
   "outputs": [],
   "source": [
    "# export\n",
    "from collections.abc import MutableMapping\n",
    "import json\n",
    "import pprint\n",
    "from operator import itemgetter\n",
    "from functools import wraps, partial\n",
    "from typing import Callable, Tuple, Dict, Any, Optional\n",
    "import sqlite3\n",
    "import time"
   ]
  },
  {
   "cell_type": "code",
   "execution_count": 126,
   "id": "chubby-cycle",
   "metadata": {},
   "outputs": [],
   "source": [
    "# export\n",
    "class SQLTtlCache(MutableMapping):\n",
    "    def __init__(\n",
    "        self,\n",
    "        dbname=\":memory:\",\n",
    "        ttl: Optional[int] = None,  # seconds\n",
    "        maxsize: Optional[int] = None,\n",
    "        check_same_thread=False,\n",
    "        fast=True,\n",
    "        encoder: Callable = lambda x: json.dumps(x),\n",
    "        decoder: Callable = lambda x: json.loads(x),\n",
    "        **kwargs,\n",
    "    ):\n",
    "        self.dbname = dbname\n",
    "        self.conn = sqlite3.connect(\n",
    "            self.dbname, check_same_thread=check_same_thread, **kwargs\n",
    "        )\n",
    "        self.encoder = encoder\n",
    "        self.decoder = decoder\n",
    "        self.maxsize = maxsize\n",
    "        self.ttl = ttl if ttl else 600\n",
    "\n",
    "        with self.conn as c:\n",
    "            \n",
    "            c.execute(\"PRAGMA foreign_keys = ON;\")\n",
    "            \n",
    "            c.execute(\n",
    "                \"CREATE TABLE IF NOT EXISTS Cache (key text NOT NULL PRIMARY KEY, value text)\"\n",
    "            )\n",
    "\n",
    "            c.execute(\n",
    "                \"\"\"CREATE TABLE IF NOT EXISTS Ttls ( key text NOT NULL PRIMARY KEY,\n",
    "                                                     ttl int NOT NULL,\n",
    "                                                     FOREIGN KEY (key) REFERENCES Cache (key)\n",
    "                                                        ON DELETE CASCADE\n",
    "                                                        ON UPDATE CASCADE )\"\"\"\n",
    "            )\n",
    "\n",
    "            c.execute(\n",
    "                \"CREATE TABLE IF NOT EXISTS Cache (key text NOT NULL PRIMARY KEY, value text)\"\n",
    "            )\n",
    "\n",
    "            if fast:\n",
    "                c.execute(\"PRAGMA journal_mode = 'WAL';\")\n",
    "                c.execute(\"PRAGMA temp_store = 2;\")\n",
    "                c.execute(\"PRAGMA synchronous = 1;\")\n",
    "                c.execute(f\"PRAGMA cache_size = {-1 * 64_000};\")\n",
    "\n",
    "            if self.maxsize is not None:\n",
    "                c.execute(\n",
    "                    f\"\"\"\n",
    "CREATE TRIGGER IF NOT EXISTS maxsize_control \n",
    "   BEFORE INSERT\n",
    "   ON Cache\n",
    "   WHEN (SELECT COUNT(*) FROM Cache) >= {self.maxsize}\n",
    "BEGIN\n",
    "    DELETE FROM Cache WHERE rowid = (SELECT min(rowid) FROM Cache);\n",
    "END;\"\"\"\n",
    "                )\n",
    "\n",
    "    def __setitem__(self, key, value):\n",
    "        with self.conn as c:\n",
    "            c.execute(\n",
    "                \"INSERT OR REPLACE INTO  Cache VALUES (?, ?)\",\n",
    "                (key, self.encoder(value)),\n",
    "            )\n",
    "\n",
    "            # Do NOT update TTL -> OR IGNORE\n",
    "            c.execute(\n",
    "                f\"INSERT OR IGNORE INTO Ttls VALUES (?, (strftime('%s','now') + {self.ttl}))\",\n",
    "                (key,),\n",
    "            )\n",
    "\n",
    "    def __getitem__(self, key):\n",
    "        \n",
    "        result = None\n",
    "        \n",
    "        with self.conn as c:\n",
    "            ttl = c.execute(\"SELECT ttl FROM Ttls WHERE key = ?\", (key,)).fetchone()\n",
    "            \n",
    "            if (ttl is None) or (ttl[0] < time.time()):\n",
    "                c.execute(\"DELETE FROM Cache WHERE key = ?\", (key,))\n",
    "                raise KeyError(key)\n",
    "            \n",
    "            result = c.execute(\"SELECT value FROM Cache WHERE key = ?\", (key,)).fetchone()\n",
    "        \n",
    "        if result is None:\n",
    "            raise KeyError(key)\n",
    "        return self.decoder(result[0])\n",
    "\n",
    "    def __delitem__(self, key):\n",
    "        if key not in self:\n",
    "            raise KeyError(key)\n",
    "        with self.conn as c:\n",
    "            c.execute(\"DELETE FROM Cache WHERE key=?\", (key,))\n",
    "\n",
    "    def __len__(self):\n",
    "        return next(self.conn.execute(\"SELECT COUNT(*) FROM Cache\"))[0]\n",
    "\n",
    "    def __iter__(self):\n",
    "        c = self.conn.execute(\"SELECT key FROM Cache\")\n",
    "        return map(itemgetter(0), c.fetchall())\n",
    "\n",
    "    def __repr__(self):\n",
    "        return f\"{type(self).__name__}(dbname={self.dbname!r}, items={pprint.pformat(list(self.items()))})\"\n",
    "\n",
    "    def vacuum(self):\n",
    "        self.conn.execute(\"VACUUM;\")\n",
    "\n",
    "    def clear(self):\n",
    "        self.conn.execute(\"DELETE FROM Cache\")\n",
    "\n",
    "    def close(self):\n",
    "        self.conn.close()"
   ]
  },
  {
   "cell_type": "code",
   "execution_count": 127,
   "id": "lasting-pension",
   "metadata": {},
   "outputs": [],
   "source": [
    "c = SQLTtlCache(ttl=20)"
   ]
  },
  {
   "cell_type": "code",
   "execution_count": 128,
   "id": "solid-sperm",
   "metadata": {},
   "outputs": [],
   "source": [
    "c[\"asd\"] = 123"
   ]
  },
  {
   "cell_type": "code",
   "execution_count": 129,
   "id": "enhanced-basketball",
   "metadata": {},
   "outputs": [
    {
     "data": {
      "text/plain": [
       "SQLTtlCache(dbname=':memory:', items=[('asd', 123)])"
      ]
     },
     "execution_count": 129,
     "metadata": {},
     "output_type": "execute_result"
    }
   ],
   "source": [
    "c"
   ]
  },
  {
   "cell_type": "code",
   "execution_count": 130,
   "id": "further-lighter",
   "metadata": {},
   "outputs": [],
   "source": [
    "a = (1, \"asdas\", 3)\n",
    "kw = {\"bb\": 123, \"aa\": 34, \"xs\": \"bm\"}"
   ]
  },
  {
   "cell_type": "code",
   "execution_count": 131,
   "id": "vocal-cooling",
   "metadata": {},
   "outputs": [
    {
     "data": {
      "text/plain": [
       "[('aa', 34), ('bb', 123), ('xs', 'bm')]"
      ]
     },
     "execution_count": 131,
     "metadata": {},
     "output_type": "execute_result"
    }
   ],
   "source": [
    "sorted(kw.items())"
   ]
  },
  {
   "cell_type": "code",
   "execution_count": 132,
   "id": "french-category",
   "metadata": {},
   "outputs": [
    {
     "data": {
      "text/plain": [
       "\"((1, 'asdas', 3), {'bb': 123, 'aa': 34, 'xs': 'bm'})\""
      ]
     },
     "execution_count": 132,
     "metadata": {},
     "output_type": "execute_result"
    }
   ],
   "source": [
    "str((a,kw))"
   ]
  },
  {
   "cell_type": "markdown",
   "id": "appreciated-budapest",
   "metadata": {},
   "source": [
    "Adapted from the Python source code"
   ]
  },
  {
   "cell_type": "code",
   "execution_count": 152,
   "id": "headed-practitioner",
   "metadata": {},
   "outputs": [],
   "source": [
    "# export\n",
    "def make_key(\n",
    "    args,\n",
    "    kwargs,\n",
    "    kwd_mark=(\"::\",),\n",
    "    fasttypes={int, str},\n",
    "):\n",
    "    \"\"\"Make a cache key from optionally typed positional and keyword arguments\n",
    "\n",
    "    The key is constructed in a way that is flat as possible rather than\n",
    "    as a nested structure that would take more memory.\n",
    "\n",
    "    If there is only a single argument and its data type is known to cache\n",
    "    its hash value, then that argument is returned without a wrapper.  This\n",
    "    saves space and improves lookup speed.\n",
    "\n",
    "    \"\"\"\n",
    "    # All of code below relies on kwds preserving the order input by the user.\n",
    "    # Formerly, we sorted() the kwds before looping.  The new way is *much*\n",
    "    # faster; however, it means that f(x=1, y=2) will now be treated as a\n",
    "    # distinct call from f(y=2, x=1) which will be cached separately.\n",
    "    key = args\n",
    "    if kwargs:\n",
    "        key += kwd_mark\n",
    "        for item in kwargs.items():\n",
    "            key += item\n",
    "    return key"
   ]
  },
  {
   "cell_type": "markdown",
   "id": "liable-monitor",
   "metadata": {},
   "source": [
    "Without kwargs"
   ]
  },
  {
   "cell_type": "code",
   "execution_count": 134,
   "id": "satisfactory-controversy",
   "metadata": {},
   "outputs": [
    {
     "data": {
      "text/plain": [
       "(1,)"
      ]
     },
     "execution_count": 134,
     "metadata": {},
     "output_type": "execute_result"
    }
   ],
   "source": [
    "make_key((1,), None)"
   ]
  },
  {
   "cell_type": "markdown",
   "id": "local-motorcycle",
   "metadata": {},
   "source": [
    "With kwargs"
   ]
  },
  {
   "cell_type": "code",
   "execution_count": 135,
   "id": "after-trace",
   "metadata": {},
   "outputs": [
    {
     "data": {
      "text/plain": [
       "(1, 2, 3, '::', 'a', 12, 'b', 'mm')"
      ]
     },
     "execution_count": 135,
     "metadata": {},
     "output_type": "execute_result"
    }
   ],
   "source": [
    "make_key((1,2,3), {\"a\": 12, \"b\": \"mm\"})"
   ]
  },
  {
   "cell_type": "markdown",
   "id": "genuine-brother",
   "metadata": {},
   "source": [
    "I can't use `cache_key = str((func.__name__, args + tuple(kwargs.values())))` because if we call the function once with the correct `kwargs` then we could call it with an incorrect `kwarg` name and it would still return a value."
   ]
  },
  {
   "cell_type": "code",
   "execution_count": 136,
   "id": "greek-graph",
   "metadata": {},
   "outputs": [],
   "source": [
    "# export\n",
    "def lru_cache(func: Callable = None, ttl: int = None, maxsize: int = None) -> Callable:\n",
    "\n",
    "    # print(func)\n",
    "    # print(maxsize)\n",
    "\n",
    "    cache = SQLTtlCache(\":memory:\", maxsize=maxsize, ttl=ttl)\n",
    "    hits = 0\n",
    "\n",
    "    if func is None:\n",
    "        return partial(lru_cache, maxsize=maxsize, ttl=ttl)\n",
    "\n",
    "    @wraps(func)\n",
    "    def wrapper(*args: Any, **kwargs: Any) -> Any:\n",
    "\n",
    "        # print(f\"Len: {len(cache)}\")\n",
    "\n",
    "        cache_key = str((func.__name__,) + make_key(args, kwargs))\n",
    "\n",
    "        # print(f\"Cache key: {cache_key}\")\n",
    "\n",
    "        if cache.get(cache_key) is not None:\n",
    "            nonlocal hits\n",
    "            hits += 1\n",
    "            print(\"Hit!\")\n",
    "            return cache[cache_key]\n",
    "\n",
    "        result = func(*args, **kwargs)\n",
    "\n",
    "        cache[cache_key] = result\n",
    "\n",
    "        return result\n",
    "\n",
    "    wrapper.cache_info = lambda: (len(cache), hits)\n",
    "    wrapper.cache_clear = lambda: cache.clear()\n",
    "    wrapper.cache = cache\n",
    "\n",
    "    return wrapper"
   ]
  },
  {
   "cell_type": "markdown",
   "id": "textile-harbor",
   "metadata": {},
   "source": [
    "Check normal cache behaviour"
   ]
  },
  {
   "cell_type": "code",
   "execution_count": 137,
   "id": "acting-disposition",
   "metadata": {},
   "outputs": [],
   "source": [
    "@lru_cache(maxsize=20)\n",
    "def add(a, b, c=None):\n",
    "    \n",
    "    if c is None:\n",
    "        c = 0\n",
    "    \n",
    "    return a + b + c"
   ]
  },
  {
   "cell_type": "code",
   "execution_count": 138,
   "id": "sporting-polymer",
   "metadata": {},
   "outputs": [],
   "source": [
    "add(1,2,3)\n",
    "\n",
    "for i in range(19):\n",
    "    add(1, i, c=i)\n",
    "\n",
    "assert add.cache_info()[0] == 20\n",
    "\n",
    "add(200, 150, 100)\n",
    "\n",
    "# maxsize works\n",
    "\n",
    "assert add.cache_info()[0] == 20"
   ]
  },
  {
   "cell_type": "markdown",
   "id": "standard-westminster",
   "metadata": {},
   "source": [
    "**TODO** hits not working"
   ]
  },
  {
   "cell_type": "code",
   "execution_count": 139,
   "id": "loaded-december",
   "metadata": {},
   "outputs": [
    {
     "data": {
      "text/plain": [
       "(20, 0)"
      ]
     },
     "execution_count": 139,
     "metadata": {},
     "output_type": "execute_result"
    }
   ],
   "source": [
    "add.cache_info()"
   ]
  },
  {
   "cell_type": "code",
   "execution_count": 140,
   "id": "careful-rings",
   "metadata": {},
   "outputs": [],
   "source": [
    "# cache clearing works\n",
    "\n",
    "add.cache_clear()\n",
    "\n",
    "assert add.cache_info()[0] == 0"
   ]
  },
  {
   "cell_type": "code",
   "execution_count": 141,
   "id": "artistic-sunset",
   "metadata": {},
   "outputs": [
    {
     "name": "stdout",
     "output_type": "stream",
     "text": [
      "pass\n"
     ]
    }
   ],
   "source": [
    "# incorrect kwars are not cached\n",
    "\n",
    "try:\n",
    "    add(1, b=24, x=4)\n",
    "except TypeError:\n",
    "    print(\"pass\")"
   ]
  },
  {
   "cell_type": "code",
   "execution_count": 142,
   "id": "figured-corner",
   "metadata": {},
   "outputs": [],
   "source": [
    "@lru_cache\n",
    "def add(a, b, c=None):\n",
    "    \n",
    "    if c is None:\n",
    "        c = 0\n",
    "    \n",
    "    return a + b + c"
   ]
  },
  {
   "cell_type": "code",
   "execution_count": 143,
   "id": "handed-delivery",
   "metadata": {},
   "outputs": [],
   "source": [
    "add(1,2,3)\n",
    "\n",
    "for i in range(200):\n",
    "    add(1, i, c=i)\n",
    "\n",
    "assert add.cache_info()[0] == 201\n",
    "\n",
    "add(200, 150, 100)\n",
    "\n",
    "# maxsize works\n",
    "\n",
    "assert add.cache_info()[0] == 202"
   ]
  },
  {
   "cell_type": "code",
   "execution_count": 144,
   "id": "prostate-afghanistan",
   "metadata": {},
   "outputs": [],
   "source": [
    "# cache clearing works\n",
    "\n",
    "add.cache_clear()\n",
    "\n",
    "assert add.cache_info()[0] == 0"
   ]
  },
  {
   "cell_type": "markdown",
   "id": "piano-nowhere",
   "metadata": {},
   "source": [
    "Check ttl"
   ]
  },
  {
   "cell_type": "code",
   "execution_count": 145,
   "id": "decent-stream",
   "metadata": {},
   "outputs": [],
   "source": [
    "@lru_cache(ttl=2, maxsize=20)\n",
    "def add(a, b, c=None):\n",
    "    \n",
    "    if c is None:\n",
    "        c = 0\n",
    "    \n",
    "    return a + b + c"
   ]
  },
  {
   "cell_type": "code",
   "execution_count": 146,
   "id": "secure-actor",
   "metadata": {},
   "outputs": [
    {
     "data": {
      "text/plain": [
       "6"
      ]
     },
     "execution_count": 146,
     "metadata": {},
     "output_type": "execute_result"
    }
   ],
   "source": [
    "add(1,2,3)"
   ]
  },
  {
   "cell_type": "code",
   "execution_count": 147,
   "id": "blocked-request",
   "metadata": {},
   "outputs": [
    {
     "name": "stdout",
     "output_type": "stream",
     "text": [
      "Hit!\n"
     ]
    },
    {
     "data": {
      "text/plain": [
       "6"
      ]
     },
     "execution_count": 147,
     "metadata": {},
     "output_type": "execute_result"
    }
   ],
   "source": [
    "add(1,2,3)"
   ]
  },
  {
   "cell_type": "code",
   "execution_count": 148,
   "id": "paperback-authorization",
   "metadata": {},
   "outputs": [],
   "source": [
    "time.sleep(2)"
   ]
  },
  {
   "cell_type": "code",
   "execution_count": 149,
   "id": "polished-dryer",
   "metadata": {},
   "outputs": [
    {
     "data": {
      "text/plain": [
       "6"
      ]
     },
     "execution_count": 149,
     "metadata": {},
     "output_type": "execute_result"
    }
   ],
   "source": [
    "add(1,2,3)"
   ]
  },
  {
   "cell_type": "code",
   "execution_count": 150,
   "id": "nominated-bankruptcy",
   "metadata": {},
   "outputs": [],
   "source": [
    "for i in range(19):\n",
    "    add(1, i, c=i)\n",
    "\n",
    "assert add.cache_info()[0] == 20\n",
    "\n",
    "add(200, 150, 100)\n",
    "\n",
    "# maxsize works\n",
    "\n",
    "assert add.cache_info()[0] == 20"
   ]
  },
  {
   "cell_type": "code",
   "execution_count": 151,
   "id": "contained-court",
   "metadata": {},
   "outputs": [],
   "source": [
    "# cache clearing works\n",
    "\n",
    "add.cache_clear()\n",
    "\n",
    "assert add.cache_info()[0] == 0"
   ]
  },
  {
   "cell_type": "markdown",
   "id": "promotional-community",
   "metadata": {},
   "source": [
    "**Benchmarks**"
   ]
  },
  {
   "cell_type": "code",
   "execution_count": 19,
   "id": "sufficient-tiffany",
   "metadata": {},
   "outputs": [],
   "source": [
    "from functools import lru_cache as pycache"
   ]
  },
  {
   "cell_type": "code",
   "execution_count": 20,
   "id": "contrary-tennessee",
   "metadata": {},
   "outputs": [],
   "source": [
    "@lru_cache(maxsize=None)\n",
    "def add1(a, b, c=None):\n",
    "\n",
    "    if c is None:\n",
    "        c = 0\n",
    "\n",
    "    return a + b + c\n",
    "\n",
    "\n",
    "@pycache(maxsize=None)\n",
    "def add2(a, b, c=None):\n",
    "\n",
    "    if c is None:\n",
    "        c = 0\n",
    "\n",
    "    return a + b + c"
   ]
  },
  {
   "cell_type": "code",
   "execution_count": 21,
   "id": "framed-circumstances",
   "metadata": {},
   "outputs": [
    {
     "name": "stdout",
     "output_type": "stream",
     "text": [
      "2.6 ms ± 92.7 µs per loop (mean ± std. dev. of 7 runs, 100 loops each)\n"
     ]
    }
   ],
   "source": [
    "%%timeit\n",
    "\n",
    "for i in range(200):\n",
    "    add1(1, i, c=i)"
   ]
  },
  {
   "cell_type": "code",
   "execution_count": 22,
   "id": "sound-indonesia",
   "metadata": {},
   "outputs": [
    {
     "name": "stdout",
     "output_type": "stream",
     "text": [
      "55 µs ± 5.45 µs per loop (mean ± std. dev. of 7 runs, 10000 loops each)\n"
     ]
    }
   ],
   "source": [
    "%%timeit\n",
    "\n",
    "for i in range(200):\n",
    "    add2(1, i, c=i)"
   ]
  },
  {
   "cell_type": "code",
   "execution_count": 26,
   "id": "opponent-procurement",
   "metadata": {},
   "outputs": [],
   "source": [
    "@lru_cache(maxsize=1000)\n",
    "def add1(a, b, c=None):\n",
    "\n",
    "    if c is None:\n",
    "        c = 0\n",
    "\n",
    "    return a + b + c\n",
    "\n",
    "\n",
    "@pycache(maxsize=1000)\n",
    "def add2(a, b, c=None):\n",
    "\n",
    "    if c is None:\n",
    "        c = 0\n",
    "\n",
    "    return a + b + c"
   ]
  },
  {
   "cell_type": "code",
   "execution_count": 27,
   "id": "ultimate-petite",
   "metadata": {},
   "outputs": [
    {
     "name": "stdout",
     "output_type": "stream",
     "text": [
      "58.6 ms ± 479 µs per loop (mean ± std. dev. of 7 runs, 10 loops each)\n"
     ]
    }
   ],
   "source": [
    "%%timeit\n",
    "\n",
    "for i in range(2000):\n",
    "    add1(1, i, c=i)"
   ]
  },
  {
   "cell_type": "code",
   "execution_count": 28,
   "id": "acquired-conversation",
   "metadata": {},
   "outputs": [
    {
     "name": "stdout",
     "output_type": "stream",
     "text": [
      "1.17 ms ± 86.9 µs per loop (mean ± std. dev. of 7 runs, 1000 loops each)\n"
     ]
    }
   ],
   "source": [
    "%%timeit\n",
    "\n",
    "for i in range(2000):\n",
    "    add2(1, i, c=i)"
   ]
  }
 ],
 "metadata": {
  "kernelspec": {
   "display_name": "jqlite",
   "language": "python",
   "name": "jqlite"
  },
  "language_info": {
   "codemirror_mode": {
    "name": "ipython",
    "version": 3
   },
   "file_extension": ".py",
   "mimetype": "text/x-python",
   "name": "python",
   "nbconvert_exporter": "python",
   "pygments_lexer": "ipython3",
   "version": "3.7.7"
  }
 },
 "nbformat": 4,
 "nbformat_minor": 5
}
